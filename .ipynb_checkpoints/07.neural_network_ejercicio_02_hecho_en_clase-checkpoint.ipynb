{
 "cells": [
  {
   "cell_type": "markdown",
   "id": "067aa07e",
   "metadata": {},
   "source": [
    "## Ejercicio de Redes Neuronales 02\n",
    "\n",
    "Usando las imagenes del directorio **`Dogs`**, construye una red neuronal que prediga la raza del perro.\n",
    "\n",
    "- Tienes que leer y clasificar cada imagen, el directorio **`Dogs`** esta conformado por directorios con los nombres de las razas.\n",
    "\n",
    "- Cada imagen tiene un tamaño diferente, para poder construir una red neuronal todas las imagenes deben de tener el mismo tamaño.\n",
    "\n",
    "- El tamaño de las imagenes determinará el número de neuronas de la capa de entrada, y el número de razas determinará el número de neuronas de la capa de salida.\n",
    "\n",
    "- Recuerda usar la función la función **`to_categorical()`** y \"aplanar\" las imagenes.\n",
    "\n",
    "- Muestra la matriz de confusión del modelo."
   ]
  },
  {
   "cell_type": "code",
   "execution_count": 1,
   "id": "d9e1f018",
   "metadata": {},
   "outputs": [],
   "source": [
    "import numpy as np\n",
    "import matplotlib.pyplot as plt\n",
    "\n",
    "import keras\n",
    "\n",
    "# Dataset\n",
    "from keras.datasets import mnist\n",
    "\n",
    "from keras.models import Sequential\n",
    "from keras.layers import Dense\n",
    "from tensorflow.keras.utils import to_categorical\n",
    "import os\n",
    "\n",
    "from sklearn.metrics import confusion_matrix\n",
    "import cv2"
   ]
  },
  {
   "cell_type": "code",
   "execution_count": 2,
   "id": "47595311",
   "metadata": {},
   "outputs": [
    {
     "data": {
      "text/plain": [
       "'C:\\\\Users\\\\MAXHUB\\\\Downloads\\\\mod10-deep-learning'"
      ]
     },
     "execution_count": 2,
     "metadata": {},
     "output_type": "execute_result"
    }
   ],
   "source": [
    "os.getcwd()"
   ]
  },
  {
   "cell_type": "code",
   "execution_count": 3,
   "id": "246f5093",
   "metadata": {},
   "outputs": [
    {
     "data": {
      "text/plain": [
       "['.ipynb_checkpoints',\n",
       " '00.deep_learning_introduccion.ipynb',\n",
       " '01.redes_neuronales_perceptron.ipynb',\n",
       " '02.funciones_activacion.ipynb',\n",
       " '03.forward_propagation.ipynb',\n",
       " '04.back_propagation_hecho_en_clase.ipynb',\n",
       " '05.keras.ipynb',\n",
       " '06.neural_network_ejercicio_01.ipynb',\n",
       " '07.neural_network_ejercicio_02.ipynb',\n",
       " 'Dogs',\n",
       " 'kmnist_modelo.h5']"
      ]
     },
     "execution_count": 3,
     "metadata": {},
     "output_type": "execute_result"
    }
   ],
   "source": [
    "os.listdir()"
   ]
  },
  {
   "cell_type": "code",
   "execution_count": 4,
   "id": "39e8aa17",
   "metadata": {},
   "outputs": [],
   "source": [
    "os.chdir(\"Dogs\")"
   ]
  },
  {
   "cell_type": "code",
   "execution_count": 5,
   "id": "76de679c",
   "metadata": {},
   "outputs": [],
   "source": [
    "lista_x_train = list()\n",
    "lista_x_test = list()\n",
    "lista_y_train = list()\n",
    "lista_y_test = list()\n",
    "\n",
    "for directorio in os.listdir():\n",
    "\n",
    "    if not(directorio.startswith(\".\")):\n",
    "    \n",
    "        if (\"Test\" in directorio):\n",
    "            os.chdir(directorio)\n",
    "            \n",
    "            for imagen in os.listdir():\n",
    "                imagen = cv2.imread(filename = imagen, flags = 0)\n",
    "                lista_x_test.append(imagen)\n",
    "                lista_y_test.append(directorio.split(\"_\")[0])\n",
    "            os.chdir(\"..\")    \n",
    "        \n",
    "    \n",
    "        else:\n",
    "            os.chdir(directorio)\n",
    "            \n",
    "            for imagen in os.listdir():\n",
    "                imagen = cv2.imread(filename = imagen, flags = 0)\n",
    "                lista_x_train.append(imagen)\n",
    "                lista_y_train.append(directorio)\n",
    "            os.chdir(\"..\") \n",
    "    \n",
    "    \n",
    "    \n",
    "    #img[i] = cv2.imread(filename = \"imagen_prueba_2.jpeg\")"
   ]
  },
  {
   "cell_type": "code",
   "execution_count": 6,
   "id": "09d73eef",
   "metadata": {},
   "outputs": [],
   "source": [
    "lista_tamaños = list()\n",
    "\n",
    "for num, imagen in enumerate(lista_x_test + lista_x_train):\n",
    "    \n",
    "    lista_tamaños.append(imagen.shape)\n",
    "    \n",
    "lista_tamaños = np.array(lista_tamaños)\n",
    "\n",
    "ancho = lista_tamaños[:, 0]\n",
    "alto = lista_tamaños[:, 1]"
   ]
  },
  {
   "cell_type": "code",
   "execution_count": 7,
   "id": "509cb0e9",
   "metadata": {},
   "outputs": [],
   "source": [
    "ancho, alto = int(ancho.mean())//4, int(alto.mean())//4"
   ]
  },
  {
   "cell_type": "code",
   "execution_count": 8,
   "id": "774f72ab",
   "metadata": {},
   "outputs": [],
   "source": [
    "for num, imagen in enumerate(lista_x_test):\n",
    "    \n",
    "    lista_x_test[num] = cv2.resize(src = imagen, dsize = (ancho, alto))"
   ]
  },
  {
   "cell_type": "code",
   "execution_count": 9,
   "id": "dc50c597",
   "metadata": {},
   "outputs": [],
   "source": [
    "for num, imagen in enumerate(lista_x_train):\n",
    "    \n",
    "    lista_x_train[num] = cv2.resize(src = imagen, dsize = (ancho, alto))"
   ]
  },
  {
   "cell_type": "code",
   "execution_count": 10,
   "id": "700390ac",
   "metadata": {},
   "outputs": [],
   "source": [
    "X_train = np.array(lista_x_train)\n",
    "X_test = np.array(lista_x_test)"
   ]
  },
  {
   "cell_type": "code",
   "execution_count": 11,
   "id": "00f385da",
   "metadata": {},
   "outputs": [],
   "source": [
    "# Para adaptar cada imagen a la red neuronal debemos transformalo en un vector, es decir, un elemento de 1 columna.\n",
    "\n",
    "# flatten \n",
    "num_pixels = X_train.shape[1] * X_train.shape[2] \n",
    "\n",
    "# Train\n",
    "X_train = X_train.reshape(X_train.shape[0], num_pixels).astype(\"float32\") # flatten training images\n",
    "\n",
    "# Test\n",
    "X_test = X_test.reshape(X_test.shape[0], num_pixels).astype(\"float32\") # flatten test images"
   ]
  },
  {
   "cell_type": "code",
   "execution_count": 12,
   "id": "b5c45a94",
   "metadata": {},
   "outputs": [],
   "source": [
    "X_train = X_train/255\n",
    "X_test = X_test/255"
   ]
  },
  {
   "cell_type": "code",
   "execution_count": 13,
   "id": "5f7b8939",
   "metadata": {},
   "outputs": [
    {
     "data": {
      "text/plain": [
       "{'Doberman': 0, 'Labrador': 1, 'Yorkshire': 2, 'ShihTzu': 3}"
      ]
     },
     "execution_count": 13,
     "metadata": {},
     "output_type": "execute_result"
    }
   ],
   "source": [
    "dogs_dict = {raza : num for num, raza in enumerate(set(lista_y_train))}\n",
    "dogs_dict"
   ]
  },
  {
   "cell_type": "code",
   "execution_count": 14,
   "id": "aaf82332",
   "metadata": {},
   "outputs": [
    {
     "data": {
      "text/plain": [
       "array([1., 0., 0., 0.], dtype=float32)"
      ]
     },
     "execution_count": 14,
     "metadata": {},
     "output_type": "execute_result"
    }
   ],
   "source": [
    "y_train = to_categorical([dogs_dict[dog] for dog in lista_y_train])\n",
    "y_test = to_categorical([dogs_dict[dog] for dog in lista_y_test])\n",
    "\n",
    "y_train[0]"
   ]
  },
  {
   "cell_type": "code",
   "execution_count": 15,
   "id": "8cce0057",
   "metadata": {},
   "outputs": [
    {
     "data": {
      "text/plain": [
       "4"
      ]
     },
     "execution_count": 15,
     "metadata": {},
     "output_type": "execute_result"
    }
   ],
   "source": [
    "num_clases = len(y_train[0])\n",
    "num_clases"
   ]
  },
  {
   "cell_type": "code",
   "execution_count": 16,
   "id": "c062662d",
   "metadata": {},
   "outputs": [
    {
     "data": {
      "text/plain": [
       "11200"
      ]
     },
     "execution_count": 16,
     "metadata": {},
     "output_type": "execute_result"
    }
   ],
   "source": [
    "num_pixels"
   ]
  },
  {
   "cell_type": "code",
   "execution_count": 17,
   "id": "d5cc198e",
   "metadata": {},
   "outputs": [],
   "source": [
    "model = Sequential()\n",
    "\n",
    "# Capa de Entrada\n",
    "model.add(Dense(num_pixels, activation = \"relu\", input_shape = (num_pixels, )))\n",
    "\n",
    "# Capas Ocultas\n",
    "model.add(Dense(num_pixels//2, activation = \"relu\"))\n",
    "model.add(Dense(num_pixels//4, activation = \"relu\"))\n",
    "model.add(Dense(num_pixels//8, activation = \"relu\"))\n",
    "model.add(Dense(num_pixels//16, activation = \"relu\"))\n",
    "model.add(Dense(num_pixels//32, activation = \"relu\"))\n",
    "\n",
    "# Capa de Salida (Si es un problema de clasificación multiple siempre debe terminar con \"softmax\")\n",
    "model.add(Dense(num_clases, activation = \"softmax\"))\n",
    "\n",
    "# Compilamos el modelo\n",
    "model.compile(optimizer = \"adam\", loss = \"categorical_crossentropy\", metrics = [\"accuracy\"])"
   ]
  },
  {
   "cell_type": "code",
   "execution_count": 18,
   "id": "8383c579",
   "metadata": {},
   "outputs": [
    {
     "name": "stdout",
     "output_type": "stream",
     "text": [
      "Model: \"sequential\"\n",
      "_________________________________________________________________\n",
      " Layer (type)                Output Shape              Param #   \n",
      "=================================================================\n",
      " dense (Dense)               (None, 11200)             125451200 \n",
      "                                                                 \n",
      " dense_1 (Dense)             (None, 5600)              62725600  \n",
      "                                                                 \n",
      " dense_2 (Dense)             (None, 2800)              15682800  \n",
      "                                                                 \n",
      " dense_3 (Dense)             (None, 1400)              3921400   \n",
      "                                                                 \n",
      " dense_4 (Dense)             (None, 700)               980700    \n",
      "                                                                 \n",
      " dense_5 (Dense)             (None, 350)               245350    \n",
      "                                                                 \n",
      " dense_6 (Dense)             (None, 4)                 1404      \n",
      "                                                                 \n",
      "=================================================================\n",
      "Total params: 209,008,454\n",
      "Trainable params: 209,008,454\n",
      "Non-trainable params: 0\n",
      "_________________________________________________________________\n"
     ]
    }
   ],
   "source": [
    "model.summary()"
   ]
  },
  {
   "cell_type": "code",
   "execution_count": 19,
   "id": "91c1754b",
   "metadata": {},
   "outputs": [
    {
     "name": "stdout",
     "output_type": "stream",
     "text": [
      "Epoch 1/20\n",
      "13/13 [==============================] - 26s 2s/step - loss: 22.8490 - accuracy: 0.2650 - val_loss: 1.7522 - val_accuracy: 0.2750\n",
      "Epoch 2/20\n",
      "13/13 [==============================] - 21s 2s/step - loss: 1.5399 - accuracy: 0.2650 - val_loss: 1.4278 - val_accuracy: 0.2500\n",
      "Epoch 3/20\n",
      "13/13 [==============================] - 16s 1s/step - loss: 1.4108 - accuracy: 0.2150 - val_loss: 1.4133 - val_accuracy: 0.2500\n",
      "Epoch 4/20\n",
      "13/13 [==============================] - 16s 1s/step - loss: 1.3902 - accuracy: 0.2625 - val_loss: 1.3268 - val_accuracy: 0.4750\n",
      "Epoch 5/20\n",
      "13/13 [==============================] - 18s 1s/step - loss: 1.3363 - accuracy: 0.3750 - val_loss: 1.3136 - val_accuracy: 0.3583\n",
      "Epoch 6/20\n",
      "13/13 [==============================] - 17s 1s/step - loss: 1.3374 - accuracy: 0.3100 - val_loss: 1.2919 - val_accuracy: 0.3667\n",
      "Epoch 7/20\n",
      "13/13 [==============================] - 17s 1s/step - loss: 1.3085 - accuracy: 0.3650 - val_loss: 1.3757 - val_accuracy: 0.2583\n",
      "Epoch 8/20\n",
      "13/13 [==============================] - 16s 1s/step - loss: 1.3154 - accuracy: 0.3425 - val_loss: 1.3234 - val_accuracy: 0.3750\n",
      "Epoch 9/20\n",
      "13/13 [==============================] - 16s 1s/step - loss: 1.2884 - accuracy: 0.3575 - val_loss: 1.3142 - val_accuracy: 0.4000\n",
      "Epoch 10/20\n",
      "13/13 [==============================] - 16s 1s/step - loss: 1.2388 - accuracy: 0.4150 - val_loss: 1.3303 - val_accuracy: 0.3500\n",
      "Epoch 11/20\n",
      "13/13 [==============================] - 17s 1s/step - loss: 1.2517 - accuracy: 0.4375 - val_loss: 1.3979 - val_accuracy: 0.2500\n",
      "Epoch 12/20\n",
      "13/13 [==============================] - 16s 1s/step - loss: 1.2806 - accuracy: 0.3700 - val_loss: 1.3629 - val_accuracy: 0.3500\n",
      "Epoch 13/20\n",
      "13/13 [==============================] - 16s 1s/step - loss: 1.2211 - accuracy: 0.3925 - val_loss: 1.3778 - val_accuracy: 0.3667\n",
      "Epoch 14/20\n",
      "13/13 [==============================] - 16s 1s/step - loss: 1.2203 - accuracy: 0.4450 - val_loss: 1.3782 - val_accuracy: 0.3667\n",
      "Epoch 15/20\n",
      "13/13 [==============================] - 16s 1s/step - loss: 1.2023 - accuracy: 0.4425 - val_loss: 1.5479 - val_accuracy: 0.2583\n",
      "Epoch 16/20\n",
      "13/13 [==============================] - 17s 1s/step - loss: 1.1683 - accuracy: 0.4175 - val_loss: 1.4301 - val_accuracy: 0.3000\n",
      "Epoch 17/20\n",
      "13/13 [==============================] - 16s 1s/step - loss: 1.1218 - accuracy: 0.4675 - val_loss: 1.6082 - val_accuracy: 0.2750\n",
      "Epoch 18/20\n",
      "13/13 [==============================] - 16s 1s/step - loss: 1.1858 - accuracy: 0.4175 - val_loss: 1.3982 - val_accuracy: 0.2750\n",
      "Epoch 19/20\n",
      "13/13 [==============================] - 16s 1s/step - loss: 1.1918 - accuracy: 0.4400 - val_loss: 1.5872 - val_accuracy: 0.3750\n",
      "Epoch 20/20\n",
      "13/13 [==============================] - 16s 1s/step - loss: 1.1517 - accuracy: 0.4650 - val_loss: 1.3934 - val_accuracy: 0.2917\n",
      "4/4 [==============================] - 1s 156ms/step - loss: 1.3934 - accuracy: 0.2917\n"
     ]
    }
   ],
   "source": [
    "# Entrenamos el modelo\n",
    "model.fit(X_train, y_train, validation_data = (X_test, y_test), epochs = 20, verbose = 1)\n",
    "\n",
    "# Metricas\n",
    "scores = model.evaluate(X_test, y_test, verbose = 1)"
   ]
  },
  {
   "cell_type": "code",
   "execution_count": 20,
   "id": "23614842",
   "metadata": {},
   "outputs": [
    {
     "data": {
      "text/plain": [
       "[1.393373966217041, 0.2916666567325592]"
      ]
     },
     "execution_count": 20,
     "metadata": {},
     "output_type": "execute_result"
    }
   ],
   "source": [
    "scores"
   ]
  },
  {
   "cell_type": "code",
   "execution_count": 21,
   "id": "a2c0d86c",
   "metadata": {},
   "outputs": [
    {
     "data": {
      "text/plain": [
       "array([[2.88294941e-01, 2.33139664e-01, 2.71432549e-01, 2.07132846e-01],\n",
       "       [7.58369327e-01, 8.70433971e-02, 1.24113984e-01, 3.04733999e-02],\n",
       "       [6.38665259e-02, 2.74310797e-01, 3.33047092e-01, 3.28775644e-01],\n",
       "       [2.59124637e-01, 2.29530752e-01, 2.96308160e-01, 2.15036452e-01],\n",
       "       [5.71679771e-01, 1.56494796e-01, 1.91239461e-01, 8.05859342e-02],\n",
       "       [9.14468523e-03, 2.71696150e-01, 3.81920248e-01, 3.37238938e-01],\n",
       "       [6.69826716e-02, 2.63817996e-01, 3.34420741e-01, 3.34778547e-01],\n",
       "       [3.35547686e-01, 2.19429418e-01, 2.70616025e-01, 1.74406886e-01],\n",
       "       [1.39254376e-01, 2.69379407e-01, 3.00135970e-01, 2.91230291e-01],\n",
       "       [3.08870614e-01, 2.10711226e-01, 3.07685524e-01, 1.72732592e-01],\n",
       "       [4.54705596e-01, 1.88769475e-01, 2.37333149e-01, 1.19191758e-01],\n",
       "       [6.81261301e-01, 1.17303602e-01, 1.52370274e-01, 4.90648709e-02],\n",
       "       [8.74407142e-02, 2.70055503e-01, 3.24287802e-01, 3.18215996e-01],\n",
       "       [1.85700029e-01, 2.59669900e-01, 3.06401640e-01, 2.48228416e-01],\n",
       "       [2.11316332e-01, 2.43924335e-01, 2.98397392e-01, 2.46361896e-01],\n",
       "       [5.32052144e-02, 2.78909177e-01, 3.46441895e-01, 3.21443796e-01],\n",
       "       [1.41949669e-01, 2.64317781e-01, 3.05664033e-01, 2.88068473e-01],\n",
       "       [3.44300687e-01, 2.19547540e-01, 2.64473468e-01, 1.71678275e-01],\n",
       "       [8.59211206e-01, 4.93957736e-02, 7.87665844e-02, 1.26263713e-02],\n",
       "       [1.03846736e-01, 2.71029025e-01, 3.13947439e-01, 3.11176896e-01],\n",
       "       [6.19167924e-01, 1.38958052e-01, 1.75456971e-01, 6.64171502e-02],\n",
       "       [3.29301566e-01, 2.20799133e-01, 2.71906763e-01, 1.77992523e-01],\n",
       "       [5.47245331e-02, 3.95585150e-01, 2.97389984e-01, 2.52300203e-01],\n",
       "       [4.04160649e-01, 2.04561844e-01, 2.47027531e-01, 1.44249991e-01],\n",
       "       [3.72016057e-02, 2.52820551e-01, 3.61085981e-01, 3.48891914e-01],\n",
       "       [2.53099859e-01, 2.37223983e-01, 2.84091502e-01, 2.25584716e-01],\n",
       "       [3.36137265e-01, 2.15662435e-01, 2.75031805e-01, 1.73168495e-01],\n",
       "       [3.96711975e-01, 2.10029811e-01, 2.45041832e-01, 1.48216367e-01],\n",
       "       [2.99159199e-01, 2.24924967e-01, 2.79247791e-01, 1.96667999e-01],\n",
       "       [2.46176660e-01, 2.34852433e-01, 2.94563234e-01, 2.24407718e-01],\n",
       "       [1.42044015e-02, 2.40112543e-01, 3.72965425e-01, 3.72717589e-01],\n",
       "       [9.41421166e-02, 2.09939182e-01, 4.11421150e-01, 2.84497589e-01],\n",
       "       [4.18037504e-01, 2.06803307e-01, 2.32702762e-01, 1.42456442e-01],\n",
       "       [1.06575983e-02, 2.24176839e-01, 3.79450530e-01, 3.85715038e-01],\n",
       "       [1.57221287e-01, 2.68047810e-01, 2.99477488e-01, 2.75253415e-01],\n",
       "       [1.00557394e-01, 2.73500234e-01, 3.24763030e-01, 3.01179439e-01],\n",
       "       [2.71447022e-02, 2.51576036e-01, 3.57109249e-01, 3.64170074e-01],\n",
       "       [4.56174053e-02, 2.57638603e-01, 3.50260645e-01, 3.46483409e-01],\n",
       "       [1.83218513e-02, 2.44499758e-01, 3.69538099e-01, 3.67640287e-01],\n",
       "       [1.68136358e-02, 2.67438710e-01, 3.77765507e-01, 3.37982088e-01],\n",
       "       [3.13448645e-02, 2.49806404e-01, 3.71162236e-01, 3.47686440e-01],\n",
       "       [3.15039068e-01, 2.25944281e-01, 2.68596828e-01, 1.90419808e-01],\n",
       "       [2.61580735e-01, 2.35713989e-01, 2.83870965e-01, 2.18834281e-01],\n",
       "       [6.34429157e-02, 2.98261404e-01, 3.34044874e-01, 3.04250866e-01],\n",
       "       [6.05243668e-02, 2.68675655e-01, 3.45178336e-01, 3.25621635e-01],\n",
       "       [4.91226733e-01, 1.83816299e-01, 2.16470465e-01, 1.08486451e-01],\n",
       "       [2.83098705e-02, 2.90521145e-01, 3.58643740e-01, 3.22525322e-01],\n",
       "       [9.18394551e-02, 2.60012925e-01, 3.29125941e-01, 3.19021642e-01],\n",
       "       [3.56532246e-01, 2.21520782e-01, 2.51775473e-01, 1.70171544e-01],\n",
       "       [1.61485463e-01, 2.53410012e-01, 3.17025125e-01, 2.68079340e-01],\n",
       "       [8.87121186e-02, 2.65412033e-01, 3.31033617e-01, 3.14842194e-01],\n",
       "       [1.60310805e-01, 2.51118660e-01, 3.08376223e-01, 2.80194372e-01],\n",
       "       [7.81731784e-01, 7.89878294e-02, 1.13784686e-01, 2.54957378e-02],\n",
       "       [9.70745161e-02, 2.69563437e-01, 3.20318103e-01, 3.13043952e-01],\n",
       "       [7.33986259e-01, 9.64348391e-02, 1.33519277e-01, 3.60595845e-02],\n",
       "       [1.45738013e-02, 2.84462005e-01, 3.71021062e-01, 3.29943091e-01],\n",
       "       [5.08299880e-02, 4.02751625e-01, 2.99558878e-01, 2.46859536e-01],\n",
       "       [4.19615537e-01, 1.97671905e-01, 2.48207390e-01, 1.34505197e-01],\n",
       "       [4.30321926e-03, 2.42222100e-01, 4.06456232e-01, 3.47018450e-01],\n",
       "       [4.51316148e-01, 1.95419446e-01, 2.29688317e-01, 1.23576045e-01],\n",
       "       [1.55551909e-02, 2.48136818e-01, 3.79191577e-01, 3.57116491e-01],\n",
       "       [1.89619092e-03, 1.87207595e-01, 4.00655746e-01, 4.10240471e-01],\n",
       "       [3.01976800e-02, 2.66525388e-01, 3.59485567e-01, 3.43791366e-01],\n",
       "       [1.82704683e-02, 3.72657657e-01, 3.37769598e-01, 2.71302253e-01],\n",
       "       [1.12892110e-02, 2.39787892e-01, 4.02272910e-01, 3.46650064e-01],\n",
       "       [1.15879796e-01, 2.43945405e-01, 3.20978969e-01, 3.19195896e-01],\n",
       "       [7.31711745e-01, 9.91888195e-02, 1.33149162e-01, 3.59502919e-02],\n",
       "       [4.17481214e-01, 1.99571162e-01, 2.46734664e-01, 1.36212915e-01],\n",
       "       [3.47259035e-03, 8.02798510e-01, 1.20811604e-01, 7.29173273e-02],\n",
       "       [1.77710000e-02, 2.35147700e-01, 3.82500082e-01, 3.64581138e-01],\n",
       "       [1.62420884e-01, 2.87940234e-01, 2.91155815e-01, 2.58483052e-01],\n",
       "       [3.62420076e-04, 9.61755142e-02, 4.69511926e-01, 4.33950186e-01],\n",
       "       [2.52906792e-02, 2.55539596e-01, 3.64374071e-01, 3.54795605e-01],\n",
       "       [5.22993058e-02, 2.67895460e-01, 3.45273465e-01, 3.34531754e-01],\n",
       "       [1.12906858e-01, 3.28659385e-01, 2.93281436e-01, 2.65152335e-01],\n",
       "       [5.01912236e-02, 2.74257839e-01, 3.49141836e-01, 3.26409161e-01],\n",
       "       [1.02100533e-03, 1.80833250e-01, 5.92906654e-01, 2.25239143e-01],\n",
       "       [1.71580315e-01, 2.51045048e-01, 2.92549878e-01, 2.84824789e-01],\n",
       "       [5.61030442e-03, 2.09918126e-01, 3.88672620e-01, 3.95798951e-01],\n",
       "       [4.68846411e-02, 2.64629096e-01, 3.47913861e-01, 3.40572417e-01],\n",
       "       [5.49337827e-04, 1.30496383e-01, 4.76146013e-01, 3.92808318e-01],\n",
       "       [1.10309152e-02, 2.31600314e-01, 3.79768163e-01, 3.77600670e-01],\n",
       "       [2.88104638e-02, 2.58199811e-01, 3.59017551e-01, 3.53972167e-01],\n",
       "       [1.74947120e-02, 1.82136610e-01, 4.91314948e-01, 3.09053779e-01],\n",
       "       [9.78850797e-02, 2.68150985e-01, 3.29704165e-01, 3.04259717e-01],\n",
       "       [1.60979647e-02, 1.84663102e-01, 4.25853908e-01, 3.73385102e-01],\n",
       "       [1.34248376e-01, 2.68919140e-01, 2.97287732e-01, 2.99544692e-01],\n",
       "       [8.06062855e-03, 2.34040692e-01, 3.86788160e-01, 3.71110529e-01],\n",
       "       [2.36454457e-02, 2.52433538e-01, 3.65833551e-01, 3.58087450e-01],\n",
       "       [1.54639762e-02, 2.04194963e-01, 4.22410369e-01, 3.57930660e-01],\n",
       "       [4.77349073e-01, 1.87215626e-01, 2.19594106e-01, 1.15841113e-01],\n",
       "       [2.06660405e-01, 3.61940920e-01, 2.39852935e-01, 1.91545740e-01],\n",
       "       [1.17233470e-01, 2.90308505e-01, 3.09176296e-01, 2.83281803e-01],\n",
       "       [9.97150037e-03, 2.66805500e-01, 3.78452003e-01, 3.44771057e-01],\n",
       "       [5.86920798e-01, 1.49292931e-01, 1.91100672e-01, 7.26856589e-02],\n",
       "       [8.58671010e-01, 4.99965101e-02, 7.85194859e-02, 1.28129451e-02],\n",
       "       [4.47126955e-01, 1.89787507e-01, 2.40168065e-01, 1.22917488e-01],\n",
       "       [8.08805600e-02, 2.96323955e-01, 3.29518855e-01, 2.93276638e-01],\n",
       "       [2.30699591e-02, 2.55279690e-01, 3.65747273e-01, 3.55903149e-01],\n",
       "       [4.26196486e-01, 1.99627861e-01, 2.40188688e-01, 1.33986935e-01],\n",
       "       [7.74996169e-03, 2.36486807e-01, 3.95019323e-01, 3.60743910e-01],\n",
       "       [2.71495730e-02, 2.88914233e-01, 3.60730737e-01, 3.23205471e-01],\n",
       "       [5.04622281e-01, 1.79289922e-01, 2.10084438e-01, 1.06003329e-01],\n",
       "       [2.63393037e-02, 2.63956934e-01, 3.66163492e-01, 3.43540251e-01],\n",
       "       [3.40758473e-01, 2.19501615e-01, 2.65343428e-01, 1.74396574e-01],\n",
       "       [1.17521249e-02, 2.61135340e-01, 3.77853155e-01, 3.49259347e-01],\n",
       "       [1.09343216e-01, 2.68466353e-01, 3.17207128e-01, 3.04983258e-01],\n",
       "       [1.55126482e-01, 2.57692367e-01, 3.03355962e-01, 2.83825159e-01],\n",
       "       [6.99475110e-01, 1.09902658e-01, 1.46872014e-01, 4.37501408e-02],\n",
       "       [3.45931560e-01, 1.99713454e-01, 2.97874898e-01, 1.56480104e-01],\n",
       "       [4.25572991e-02, 5.31166852e-01, 2.37398148e-01, 1.88877612e-01],\n",
       "       [1.62306815e-01, 2.48961776e-01, 3.05107981e-01, 2.83623427e-01],\n",
       "       [3.25090230e-01, 2.18863592e-01, 2.75566965e-01, 1.80479243e-01],\n",
       "       [8.88456181e-02, 2.73894876e-01, 3.24331254e-01, 3.12928230e-01],\n",
       "       [2.62878180e-01, 2.36630335e-01, 2.82748282e-01, 2.17743233e-01],\n",
       "       [2.21017035e-04, 7.65388235e-02, 5.88865578e-01, 3.34374636e-01],\n",
       "       [5.99059202e-02, 2.68849790e-01, 3.41236502e-01, 3.30007792e-01],\n",
       "       [3.76010798e-02, 3.74743909e-01, 3.20955068e-01, 2.66699940e-01],\n",
       "       [3.42141449e-01, 2.18713626e-01, 2.67074674e-01, 1.72070295e-01],\n",
       "       [1.54683009e-01, 2.55437374e-01, 3.00933212e-01, 2.88946480e-01]],\n",
       "      dtype=float32)"
      ]
     },
     "execution_count": 21,
     "metadata": {},
     "output_type": "execute_result"
    }
   ],
   "source": [
    "y_hat = model.predict(X_test)\n",
    "y_hat"
   ]
  },
  {
   "cell_type": "code",
   "execution_count": 22,
   "id": "e34ecf67",
   "metadata": {},
   "outputs": [
    {
     "data": {
      "text/plain": [
       "[0,\n",
       " 0,\n",
       " 2,\n",
       " 2,\n",
       " 0,\n",
       " 2,\n",
       " 3,\n",
       " 0,\n",
       " 2,\n",
       " 0,\n",
       " 0,\n",
       " 0,\n",
       " 2,\n",
       " 2,\n",
       " 2,\n",
       " 2,\n",
       " 2,\n",
       " 0,\n",
       " 0,\n",
       " 2,\n",
       " 0,\n",
       " 0,\n",
       " 1,\n",
       " 0,\n",
       " 2,\n",
       " 2,\n",
       " 0,\n",
       " 0,\n",
       " 0,\n",
       " 2,\n",
       " 2,\n",
       " 2,\n",
       " 0,\n",
       " 3,\n",
       " 2,\n",
       " 2,\n",
       " 3,\n",
       " 2,\n",
       " 2,\n",
       " 2,\n",
       " 2,\n",
       " 0,\n",
       " 2,\n",
       " 2,\n",
       " 2,\n",
       " 0,\n",
       " 2,\n",
       " 2,\n",
       " 0,\n",
       " 2,\n",
       " 2,\n",
       " 2,\n",
       " 0,\n",
       " 2,\n",
       " 0,\n",
       " 2,\n",
       " 1,\n",
       " 0,\n",
       " 2,\n",
       " 0,\n",
       " 2,\n",
       " 3,\n",
       " 2,\n",
       " 1,\n",
       " 2,\n",
       " 2,\n",
       " 0,\n",
       " 0,\n",
       " 1,\n",
       " 2,\n",
       " 2,\n",
       " 2,\n",
       " 2,\n",
       " 2,\n",
       " 1,\n",
       " 2,\n",
       " 2,\n",
       " 2,\n",
       " 3,\n",
       " 2,\n",
       " 2,\n",
       " 2,\n",
       " 2,\n",
       " 2,\n",
       " 2,\n",
       " 2,\n",
       " 3,\n",
       " 2,\n",
       " 2,\n",
       " 2,\n",
       " 0,\n",
       " 1,\n",
       " 2,\n",
       " 2,\n",
       " 0,\n",
       " 0,\n",
       " 0,\n",
       " 2,\n",
       " 2,\n",
       " 0,\n",
       " 2,\n",
       " 2,\n",
       " 0,\n",
       " 2,\n",
       " 0,\n",
       " 2,\n",
       " 2,\n",
       " 2,\n",
       " 0,\n",
       " 0,\n",
       " 1,\n",
       " 2,\n",
       " 0,\n",
       " 2,\n",
       " 2,\n",
       " 2,\n",
       " 2,\n",
       " 1,\n",
       " 0,\n",
       " 2]"
      ]
     },
     "execution_count": 22,
     "metadata": {},
     "output_type": "execute_result"
    }
   ],
   "source": [
    "y_hat = [np.argmax(i) for i in y_hat]\n",
    "y_hat"
   ]
  },
  {
   "cell_type": "code",
   "execution_count": 23,
   "id": "a0cbb022",
   "metadata": {},
   "outputs": [
    {
     "data": {
      "text/plain": [
       "[0,\n",
       " 0,\n",
       " 0,\n",
       " 0,\n",
       " 0,\n",
       " 0,\n",
       " 0,\n",
       " 0,\n",
       " 0,\n",
       " 0,\n",
       " 0,\n",
       " 0,\n",
       " 0,\n",
       " 0,\n",
       " 0,\n",
       " 0,\n",
       " 0,\n",
       " 0,\n",
       " 0,\n",
       " 0,\n",
       " 0,\n",
       " 0,\n",
       " 0,\n",
       " 0,\n",
       " 0,\n",
       " 0,\n",
       " 0,\n",
       " 0,\n",
       " 0,\n",
       " 0,\n",
       " 1,\n",
       " 1,\n",
       " 1,\n",
       " 1,\n",
       " 1,\n",
       " 1,\n",
       " 1,\n",
       " 1,\n",
       " 1,\n",
       " 1,\n",
       " 1,\n",
       " 1,\n",
       " 1,\n",
       " 1,\n",
       " 1,\n",
       " 1,\n",
       " 1,\n",
       " 1,\n",
       " 1,\n",
       " 1,\n",
       " 1,\n",
       " 1,\n",
       " 1,\n",
       " 1,\n",
       " 1,\n",
       " 1,\n",
       " 1,\n",
       " 1,\n",
       " 1,\n",
       " 1,\n",
       " 3,\n",
       " 3,\n",
       " 3,\n",
       " 3,\n",
       " 3,\n",
       " 3,\n",
       " 3,\n",
       " 3,\n",
       " 3,\n",
       " 3,\n",
       " 3,\n",
       " 3,\n",
       " 3,\n",
       " 3,\n",
       " 3,\n",
       " 3,\n",
       " 3,\n",
       " 3,\n",
       " 3,\n",
       " 3,\n",
       " 3,\n",
       " 3,\n",
       " 3,\n",
       " 3,\n",
       " 3,\n",
       " 3,\n",
       " 3,\n",
       " 3,\n",
       " 3,\n",
       " 3,\n",
       " 2,\n",
       " 2,\n",
       " 2,\n",
       " 2,\n",
       " 2,\n",
       " 2,\n",
       " 2,\n",
       " 2,\n",
       " 2,\n",
       " 2,\n",
       " 2,\n",
       " 2,\n",
       " 2,\n",
       " 2,\n",
       " 2,\n",
       " 2,\n",
       " 2,\n",
       " 2,\n",
       " 2,\n",
       " 2,\n",
       " 2,\n",
       " 2,\n",
       " 2,\n",
       " 2,\n",
       " 2,\n",
       " 2,\n",
       " 2,\n",
       " 2,\n",
       " 2,\n",
       " 2]"
      ]
     },
     "execution_count": 23,
     "metadata": {},
     "output_type": "execute_result"
    }
   ],
   "source": [
    "y_test = [np.argmax(i) for i in y_test]\n",
    "y_test"
   ]
  },
  {
   "cell_type": "code",
   "execution_count": 24,
   "id": "478c0415",
   "metadata": {},
   "outputs": [
    {
     "data": {
      "text/plain": [
       "array([[15,  1, 13,  1],\n",
       "       [ 8,  1, 19,  2],\n",
       "       [11,  3, 16,  0],\n",
       "       [ 2,  3, 22,  3]], dtype=int64)"
      ]
     },
     "execution_count": 24,
     "metadata": {},
     "output_type": "execute_result"
    }
   ],
   "source": [
    "confusion_matrix(y_test, y_hat)"
   ]
  },
  {
   "cell_type": "code",
   "execution_count": 25,
   "id": "c5f81d67",
   "metadata": {},
   "outputs": [
    {
     "name": "stdout",
     "output_type": "stream",
     "text": [
      "Accuracy: 0.2916666567325592\n",
      "Error: 0.7083333432674408\n"
     ]
    }
   ],
   "source": [
    "print(f\"Accuracy: {scores[1]}\\nError: {1 - scores[1]}\")"
   ]
  },
  {
   "cell_type": "code",
   "execution_count": null,
   "id": "e9203eed",
   "metadata": {},
   "outputs": [],
   "source": []
  },
  {
   "cell_type": "code",
   "execution_count": null,
   "id": "c5a78684",
   "metadata": {},
   "outputs": [],
   "source": []
  }
 ],
 "metadata": {
  "kernelspec": {
   "display_name": "Python 3 (ipykernel)",
   "language": "python",
   "name": "python3"
  },
  "language_info": {
   "codemirror_mode": {
    "name": "ipython",
    "version": 3
   },
   "file_extension": ".py",
   "mimetype": "text/x-python",
   "name": "python",
   "nbconvert_exporter": "python",
   "pygments_lexer": "ipython3",
   "version": "3.9.7"
  }
 },
 "nbformat": 4,
 "nbformat_minor": 5
}
