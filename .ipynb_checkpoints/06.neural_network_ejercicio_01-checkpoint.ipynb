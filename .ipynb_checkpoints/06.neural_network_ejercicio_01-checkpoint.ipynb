{
 "cells": [
  {
   "cell_type": "markdown",
   "id": "46d0e4a8",
   "metadata": {},
   "source": [
    "## Ejercicio de Redes Neuronales 01\n",
    "\n",
    "Usando el dataset de **`FASHION MNIST`** de la libreria **`Keras`**, construye una red neuronal para predecir la \"columna objetivo\"."
   ]
  },
  {
   "cell_type": "code",
   "execution_count": 1,
   "id": "467b5fb3",
   "metadata": {},
   "outputs": [],
   "source": [
    "import numpy as np\n",
    "import matplotlib.pyplot as plt\n",
    "\n",
    "import keras\n",
    "\n",
    "# Dataset\n",
    "from keras.datasets import fashion_mnist\n",
    "\n",
    "from keras.models import Sequential\n",
    "from keras.layers import Dense\n",
    "from tensorflow.keras.utils import to_categorical\n",
    "\n",
    "from sklearn.metrics import confusion_matrix"
   ]
  },
  {
   "cell_type": "code",
   "execution_count": 2,
   "id": "4bd7b401",
   "metadata": {},
   "outputs": [],
   "source": [
    "# Dataset\n",
    "\n",
    "(X_train, y_train), (X_test, y_test) = fashion_mnist.load_data()"
   ]
  },
  {
   "cell_type": "code",
   "execution_count": 3,
   "id": "a677fba2",
   "metadata": {},
   "outputs": [],
   "source": [
    "class_names = [\"T-shirt/top\", \"Trouser\", \"Pullover\", \"Dress\", \"Coat\", \"Sandal\", \"Shirt\", \"Sneaker\", \"Bag\", \"Ankle boot\"]"
   ]
  },
  {
   "cell_type": "code",
   "execution_count": 4,
   "id": "d8c780e9",
   "metadata": {},
   "outputs": [
    {
     "data": {
      "text/plain": [
       "((60000, 28, 28), (60000,))"
      ]
     },
     "execution_count": 4,
     "metadata": {},
     "output_type": "execute_result"
    }
   ],
   "source": [
    "X_train.shape, y_train.shape"
   ]
  },
  {
   "cell_type": "code",
   "execution_count": 5,
   "id": "3d702c84",
   "metadata": {},
   "outputs": [
    {
     "data": {
      "text/plain": [
       "((10000, 28, 28), (10000,))"
      ]
     },
     "execution_count": 5,
     "metadata": {},
     "output_type": "execute_result"
    }
   ],
   "source": [
    "X_test.shape, y_test.shape"
   ]
  },
  {
   "cell_type": "code",
   "execution_count": 6,
   "id": "0fc4fbf6",
   "metadata": {},
   "outputs": [],
   "source": [
    "# Transformación en un vector.\n",
    "\n",
    "num_pixels = X_train.shape[1] * X_train.shape[2] \n",
    "\n",
    "X_train = X_train.reshape(X_train.shape[0], num_pixels).astype(\"float32\")\n",
    "\n",
    "X_test = X_test.reshape(X_test.shape[0], num_pixels).astype(\"float32\")"
   ]
  },
  {
   "cell_type": "code",
   "execution_count": 7,
   "id": "a6aa6440",
   "metadata": {},
   "outputs": [],
   "source": [
    "# Normalización.\n",
    "\n",
    "X_train = X_train / 255\n",
    "X_test = X_test / 255"
   ]
  },
  {
   "cell_type": "code",
   "execution_count": 8,
   "id": "c5cf222c",
   "metadata": {},
   "outputs": [],
   "source": [
    "# One Hot Encoding. \n",
    "\n",
    "y_train = to_categorical(y_train)\n",
    "y_test = to_categorical(y_test)"
   ]
  },
  {
   "cell_type": "code",
   "execution_count": 9,
   "id": "017b7619",
   "metadata": {},
   "outputs": [
    {
     "data": {
      "text/plain": [
       "10"
      ]
     },
     "execution_count": 9,
     "metadata": {},
     "output_type": "execute_result"
    }
   ],
   "source": [
    "num_classes = len(y_train[0])\n",
    "num_classes"
   ]
  },
  {
   "cell_type": "code",
   "execution_count": 10,
   "id": "865694be",
   "metadata": {},
   "outputs": [
    {
     "name": "stdout",
     "output_type": "stream",
     "text": [
      "Model: \"sequential\"\n",
      "_________________________________________________________________\n",
      " Layer (type)                Output Shape              Param #   \n",
      "=================================================================\n",
      " dense (Dense)               (None, 784)               615440    \n",
      "                                                                 \n",
      " dense_1 (Dense)             (None, 100)               78500     \n",
      "                                                                 \n",
      " dense_2 (Dense)             (None, 50)                5050      \n",
      "                                                                 \n",
      " dense_3 (Dense)             (None, 25)                1275      \n",
      "                                                                 \n",
      " dense_4 (Dense)             (None, 10)                260       \n",
      "                                                                 \n",
      "=================================================================\n",
      "Total params: 700,525\n",
      "Trainable params: 700,525\n",
      "Non-trainable params: 0\n",
      "_________________________________________________________________\n"
     ]
    }
   ],
   "source": [
    "# Modelo.\n",
    "model = Sequential()\n",
    "\n",
    "# Entrada.\n",
    "model.add(Dense(num_pixels, activation = \"relu\", input_shape = (num_pixels, )))\n",
    "\n",
    "# Capas Ocultas.\n",
    "model.add(Dense(100, activation = \"relu\"))\n",
    "model.add(Dense(50, activation = \"relu\"))\n",
    "model.add(Dense(25, activation = \"relu\"))\n",
    "\n",
    "# Salida.\n",
    "model.add(Dense(num_classes, activation = \"softmax\"))\n",
    "\n",
    "# Compilación.\n",
    "model.compile(optimizer = \"adam\", loss = \"categorical_crossentropy\", metrics = [\"accuracy\"])\n",
    "\n",
    "model.summary()"
   ]
  },
  {
   "cell_type": "code",
   "execution_count": 11,
   "id": "8983d13c",
   "metadata": {},
   "outputs": [
    {
     "name": "stdout",
     "output_type": "stream",
     "text": [
      "Epoch 1/5\n",
      "1875/1875 [==============================] - 29s 15ms/step - loss: 0.5049 - accuracy: 0.8196 - val_loss: 0.4388 - val_accuracy: 0.8449\n",
      "Epoch 2/5\n",
      "1875/1875 [==============================] - 22s 12ms/step - loss: 0.3710 - accuracy: 0.8637 - val_loss: 0.4087 - val_accuracy: 0.8535\n",
      "Epoch 3/5\n",
      "1875/1875 [==============================] - 23s 12ms/step - loss: 0.3325 - accuracy: 0.8767 - val_loss: 0.3761 - val_accuracy: 0.8640\n",
      "Epoch 4/5\n",
      "1875/1875 [==============================] - 23s 12ms/step - loss: 0.3105 - accuracy: 0.8852 - val_loss: 0.3483 - val_accuracy: 0.8727\n",
      "Epoch 5/5\n",
      "1875/1875 [==============================] - 21s 11ms/step - loss: 0.2917 - accuracy: 0.8909 - val_loss: 0.3570 - val_accuracy: 0.8651\n",
      "313/313 [==============================] - 1s 5ms/step - loss: 0.3570 - accuracy: 0.8651\n"
     ]
    }
   ],
   "source": [
    "# Entrenamiento.\n",
    "\n",
    "model.fit(X_train, y_train, validation_data = (X_test, y_test), epochs = 5, verbose = 1)\n",
    "\n",
    "# Métricas.\n",
    "\n",
    "scores = model.evaluate(X_test, y_test, verbose = 1)"
   ]
  },
  {
   "cell_type": "code",
   "execution_count": 12,
   "id": "f57c3969",
   "metadata": {},
   "outputs": [
    {
     "data": {
      "text/plain": [
       "[0.3569544553756714, 0.8651000261306763]"
      ]
     },
     "execution_count": 12,
     "metadata": {},
     "output_type": "execute_result"
    }
   ],
   "source": [
    "# Error y accuracy.\n",
    "\n",
    "scores"
   ]
  },
  {
   "cell_type": "code",
   "execution_count": 13,
   "id": "9bdbeb68",
   "metadata": {},
   "outputs": [],
   "source": [
    "# Predicción.\n",
    "\n",
    "y_hat = model.predict(X_test)\n",
    "y_hat = [np.argmax(i) for i in y_hat]\n",
    "y_test = [np.argmax(i) for i in y_test]"
   ]
  },
  {
   "cell_type": "code",
   "execution_count": 14,
   "id": "1c54297e",
   "metadata": {},
   "outputs": [
    {
     "data": {
      "text/plain": [
       "array([[844,   2,   4,   9,   4,   1, 129,   0,   7,   0],\n",
       "       [  4, 969,   0,  19,   3,   0,   4,   0,   1,   0],\n",
       "       [ 22,   2, 670,   8,  78,   0, 216,   0,   4,   0],\n",
       "       [ 57,  10,   7, 844,  46,   0,  32,   0,   4,   0],\n",
       "       [  0,   1,  84,  24, 722,   0, 165,   0,   4,   0],\n",
       "       [  0,   0,   0,   0,   0, 945,   0,  32,   0,  23],\n",
       "       [129,   1,  36,  17,  42,   0, 759,   0,  16,   0],\n",
       "       [  0,   0,   0,   0,   0,   9,   0, 949,   0,  42],\n",
       "       [  5,   0,   0,   3,   4,   1,   2,   3, 982,   0],\n",
       "       [  0,   0,   0,   0,   0,   5,   1,  27,   0, 967]], dtype=int64)"
      ]
     },
     "execution_count": 14,
     "metadata": {},
     "output_type": "execute_result"
    }
   ],
   "source": [
    "# Matriz de confusión.\n",
    "\n",
    "confusion_matrix(y_test, y_hat)"
   ]
  },
  {
   "cell_type": "code",
   "execution_count": 15,
   "id": "b07ae672",
   "metadata": {},
   "outputs": [
    {
     "name": "stdout",
     "output_type": "stream",
     "text": [
      "Accuracy: 0.8651000261306763\n",
      "Error: 0.13489997386932373\n"
     ]
    }
   ],
   "source": [
    "# Resultados.\n",
    "\n",
    "print(f\"Accuracy: {scores[1]}\\nError: {1 - scores[1]}\")"
   ]
  },
  {
   "cell_type": "code",
   "execution_count": null,
   "id": "cc017829",
   "metadata": {},
   "outputs": [],
   "source": []
  },
  {
   "cell_type": "code",
   "execution_count": null,
   "id": "9e61a0aa",
   "metadata": {},
   "outputs": [],
   "source": []
  },
  {
   "cell_type": "code",
   "execution_count": null,
   "id": "02f22977",
   "metadata": {},
   "outputs": [],
   "source": []
  },
  {
   "cell_type": "code",
   "execution_count": null,
   "id": "caafbbd1",
   "metadata": {},
   "outputs": [],
   "source": []
  }
 ],
 "metadata": {
  "kernelspec": {
   "display_name": "Python 3 (ipykernel)",
   "language": "python",
   "name": "python3"
  },
  "language_info": {
   "codemirror_mode": {
    "name": "ipython",
    "version": 3
   },
   "file_extension": ".py",
   "mimetype": "text/x-python",
   "name": "python",
   "nbconvert_exporter": "python",
   "pygments_lexer": "ipython3",
   "version": "3.9.7"
  }
 },
 "nbformat": 4,
 "nbformat_minor": 5
}
